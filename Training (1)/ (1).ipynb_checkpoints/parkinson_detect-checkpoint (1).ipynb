{
 "cells": [
  {
   "cell_type": "markdown",
   "id": "69818516",
   "metadata": {},
   "source": [
    "# Importing the necessary libraries"
   ]
  },
  {
   "cell_type": "code",
   "execution_count": 1,
   "id": "c0b7c2fa",
   "metadata": {},
   "outputs": [],
   "source": [
    "from sklearn.ensemble import RandomForestClassifier\n",
    "from sklearn.preprocessing import LabelEncoder\n",
    "from sklearn.metrics import confusion_matrix\n",
    "from skimage import feature\n",
    "from imutils import build_montages\n",
    "from imutils import paths\n",
    "import numpy as np\n",
    "import cv2\n",
    "import os\n",
    "import pickle"
   ]
  },
  {
   "cell_type": "markdown",
   "id": "995b59ee",
   "metadata": {},
   "source": [
    "# Loading Train Data and Test Data"
   ]
  },
  {
   "cell_type": "code",
   "execution_count": 2,
   "id": "37908ca4",
   "metadata": {},
   "outputs": [],
   "source": [
    "def quantify_image(image):\n",
    "    features= feature.hog(image, orientations=9,\n",
    "                          pixels_per_cell=(10,10), cells_per_block=(2,2),\n",
    "                          transform_sqrt=True, block_norm=\"L1\")\n",
    "    return features"
   ]
  },
  {
   "cell_type": "code",
   "execution_count": 3,
   "id": "c352a4d4",
   "metadata": {},
   "outputs": [],
   "source": [
    "def load_split(path):\n",
    "    imagePaths= list(paths.list_images(path))\n",
    "    data=[]\n",
    "    labels=[]\n",
    "    \n",
    "    for imagePath in imagePaths:\n",
    "        label= imagePath.split(os.path.sep)[-2]\n",
    "        \n",
    "        image=cv2.imread(imagePath)\n",
    "        image=cv2.cvtColor(image, cv2.COLOR_BGR2GRAY)\n",
    "        image=cv2.resize(image, (200,200))\n",
    "        image=cv2.threshold(image, 0, 255, cv2.THRESH_BINARY_INV | cv2.THRESH_OTSU)[1]\n",
    "        \n",
    "        features= quantify_image(image)\n",
    "        \n",
    "        data.append(features)\n",
    "        labels.append(label)\n",
    "        \n",
    "        return (np.array(data), np.array(labels))"
   ]
  },
  {
   "cell_type": "code",
   "execution_count": 4,
   "id": "394f1546",
   "metadata": {
    "scrolled": true
   },
   "outputs": [
    {
     "name": "stdout",
     "output_type": "stream",
     "text": [
      "[INFO] loading data...\n"
     ]
    }
   ],
   "source": [
    "#defining path\n",
    "trainingPath = r\"..\\dataset\\spiral\\training\"\n",
    "testingPath = r\"..\\dataset\\spiral\\testing\"\n",
    "\n",
    "#loading the training and testing data\n",
    "print(\"[INFO] loading data...\")\n",
    "(X_train, y_train)= load_split(trainingPath)\n",
    "(X_test, y_test)= load_split(testingPath)"
   ]
  },
  {
   "cell_type": "markdown",
   "id": "dd0fd8ad",
   "metadata": {},
   "source": [
    "# Label Encoding"
   ]
  },
  {
   "cell_type": "code",
   "execution_count": 5,
   "id": "5fb8e6c4",
   "metadata": {},
   "outputs": [
    {
     "name": "stdout",
     "output_type": "stream",
     "text": [
      "(1, 12996) (1,)\n"
     ]
    }
   ],
   "source": [
    "le= LabelEncoder()\n",
    "y_train= le.fit_transform(y_train)\n",
    "y_test=le.transform(y_test)\n",
    "print(X_train.shape, y_train.shape)"
   ]
  },
  {
   "cell_type": "markdown",
   "id": "8306872c",
   "metadata": {},
   "source": [
    "# Train the model"
   ]
  },
  {
   "cell_type": "code",
   "execution_count": 6,
   "id": "6e042c2a",
   "metadata": {},
   "outputs": [
    {
     "name": "stdout",
     "output_type": "stream",
     "text": [
      "[INFO] training model\n"
     ]
    },
    {
     "data": {
      "text/plain": [
       "RandomForestClassifier()"
      ]
     },
     "execution_count": 6,
     "metadata": {},
     "output_type": "execute_result"
    }
   ],
   "source": [
    "print(\"[INFO] training model\")\n",
    "model= RandomForestClassifier(n_estimators=100)\n",
    "model.fit(X_train, y_train)"
   ]
  },
  {
   "cell_type": "markdown",
   "id": "5c47433f",
   "metadata": {},
   "source": [
    "# Testing the model"
   ]
  },
  {
   "cell_type": "code",
   "execution_count": 7,
   "id": "7a6bc6a5",
   "metadata": {},
   "outputs": [],
   "source": [
    "#selection of images for montage\n",
    "testingPaths= list(paths.list_images(testingPath))\n",
    "idxs= np.arange(0, len(testingPaths))\n",
    "idxs=np.random.choice(idxs, size=(25,), replace=False)\n",
    "images=[]"
   ]
  },
  {
   "cell_type": "code",
   "execution_count": 8,
   "id": "aa957d02",
   "metadata": {},
   "outputs": [],
   "source": [
    "# loop over testing samples\n",
    "for i in idxs:\n",
    "    image=cv2.imread(testingPaths[i])\n",
    "    output=image.copy()\n",
    "    output=cv2.resize(output, (128,128))\n",
    "    \n",
    "    image=cv2.cvtColor(image, cv2.COLOR_BGR2GRAY)\n",
    "    image=cv2.resize(image, (200,200))\n",
    "    image=cv2.threshold(image, 0, 255, cv2.THRESH_BINARY_INV | cv2.THRESH_OTSU)[1]\n",
    "    \n",
    "    #quantifying images\n",
    "    features= quantify_image(image)\n",
    "    preds=model.predict([features])\n",
    "    \n",
    "    label=le.inverse_transform(preds)[0]\n",
    "    \n",
    "    color=(0,255,0) if label==\"healthy\" else (0,0,255)\n",
    "    cv2.putText(output, label, (3,20), cv2.FONT_HERSHEY_SIMPLEX, 0.5, color, 2)\n",
    "    images.append(output)"
   ]
  },
  {
   "cell_type": "code",
   "execution_count": null,
   "id": "de8b3e3c",
   "metadata": {},
   "outputs": [],
   "source": [
    "#creating montage\n",
    "montage=build_montages(images, (128,128), (5,5))[0]\n",
    "\n",
    "cv2.imshow(\"Output\", montage)\n",
    "cv2.waitKey(0)"
   ]
  },
  {
   "cell_type": "markdown",
   "id": "391024c7",
   "metadata": {},
   "source": [
    "# Model Evaluation"
   ]
  },
  {
   "cell_type": "code",
   "execution_count": null,
   "id": "904568b4",
   "metadata": {},
   "outputs": [],
   "source": [
    "predictions= model.predict(X_test)\n",
    "cm=confusion_matrix(y_test, predictions).flatten()\n",
    "print(cm)\n",
    "(tn, fp, fn, tp)=cm\n",
    "accuracy=(tp+tn)/float(cm.sum())\n",
    "print(accuracy)"
   ]
  },
  {
   "cell_type": "markdown",
   "id": "d5361a30",
   "metadata": {},
   "source": [
    "# Storing the model"
   ]
  },
  {
   "cell_type": "code",
   "execution_count": null,
   "id": "ad853fd6",
   "metadata": {},
   "outputs": [],
   "source": [
    "pickle.dump(model, open('parkinson.pkl','wb'))"
   ]
  }
 ],
 "metadata": {
  "kernelspec": {
   "display_name": "Python 3",
   "language": "python",
   "name": "python3"
  },
  "language_info": {
   "codemirror_mode": {
    "name": "ipython",
    "version": 3
   },
   "file_extension": ".py",
   "mimetype": "text/x-python",
   "name": "python",
   "nbconvert_exporter": "python",
   "pygments_lexer": "ipython3",
   "version": "3.8.8"
  }
 },
 "nbformat": 4,
 "nbformat_minor": 5
}
